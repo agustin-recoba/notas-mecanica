{
 "cells": [
  {
   "cell_type": "markdown",
   "id": "63f89a44",
   "metadata": {},
   "source": [
    "# Teórico: Sistemas de Coordenadas"
   ]
  },
  {
   "cell_type": "markdown",
   "id": "fc1a9946",
   "metadata": {},
   "source": [
    "## 1. Coodrenadas Cartesianas\n",
    "Usa una base ortonormales directa (`i`, `j`, `k`) y un origen O.\n",
    "- **i**: vector unitario en la dirección del eje x\n",
    "- **j**: vector unitario en la dirección del eje y\n",
    "- **k**: vector unitario en la dirección del eje z\n",
    "- **O**: punto de origen\n",
    "\n",
    "Un vector se puede expresar como:\n",
    "\n",
    "$\\vec{v} = (v_x, v_y, v_z)^t = v_x \\hat{i} + v_y \\hat{j} + v_z \\hat{k}$"
   ]
  },
  {
   "cell_type": "markdown",
   "id": "02a98050",
   "metadata": {},
   "source": [
    "### **Ortogonal** significa que se cumple:\n",
    "\n",
    "$\\hat{i} \\cdot \\hat{j} = \\hat{i} \\cdot \\hat{k} = \\hat{j} \\cdot \\hat{k} = 0$"
   ]
  },
  {
   "cell_type": "markdown",
   "id": "ad1cce19",
   "metadata": {},
   "source": [
    "### **Ortonormal** es que los vectores son ortogonales y tienen norma 1:\n",
    "\n",
    "$|| \\hat{i} || = || \\hat{j} || = || \\hat{k} || = 1$ "
   ]
  },
  {
   "cell_type": "markdown",
   "id": "299adc45",
   "metadata": {},
   "source": [
    "### La base es **directa** sii:\n",
    "\n",
    "- $\\hat{i} \\times \\hat{j} = \\hat{k}$\n",
    "- $\\hat{j} \\times \\hat{k} = \\hat{i}$\n",
    "- $\\hat{k} \\times \\hat{i} = \\hat{j}$\n",
    "\n",
    "![captura del pizzaron, grafico de las 3 versores y O](media/clase1/versores.png)"
   ]
  },
  {
   "cell_type": "markdown",
   "id": "327e40c3",
   "metadata": {},
   "source": [
    "### Leyes horarias\n",
    "\n",
    "Se dice que las leyes horarias de un objeto o partícula son las ecuaciones que describen su movimiento en el espacio. \n",
    "\n",
    "Estas son: $ \\vec{r}(t) = (x(t), y(t), z(t))^t $"
   ]
  },
  {
   "cell_type": "markdown",
   "id": "7c67ba80",
   "metadata": {},
   "source": [
    "### Ecuación de movimiento\n",
    "\n",
    "La ecuación de movimiento es la ecuación diferencial cuya resolución son las leyes horarias.\n",
    "\n",
    "Dada una partícula con posición $\\vec{r}(t)$\n",
    "- $\\vec{v} = \\dot{\\vec{r}} = \\dot{x} \\hat{i} + \\dot{y} \\hat{j} + \\dot{z} \\hat{k}$\n",
    "- $\\vec{a} = \\dot{\\vec{v}} = \\ddot{x} \\hat{i} + \\ddot{y} \\hat{j} + \\ddot{z} \\hat{k}$"
   ]
  },
  {
   "cell_type": "markdown",
   "id": "f0da98be",
   "metadata": {},
   "source": [
    "## 2. Coordenadas Cilíndricas ($\\rho$, $\\phi$, $z$)\n",
    "\n",
    "Usa un sistema de coordenadas que se basa en un eje de simetría (eje $z$) y un plano perpendicular a este (plano $xy$).\n",
    "\n",
    "Donde:\n",
    "- $\\rho$: Coordenada Radial (distancia al eje de simetría)\n",
    "- $\\phi$: Coordenada Azimutal (ángulo con el eje $x$)\n",
    "- $z$: altura sobre el plano $xy$\n",
    "\n",
    "La base ortonormal directa será entonces:\n",
    "- $\\hat{e}_\\rho$: vector unitario radial\n",
    "- $\\hat{e}_\\phi$: vector unitario azimutal\n",
    "- $\\hat{k}$: vector unitario en la dirección del eje $z$\n",
    "\n",
    "Para obtener las coordenadas cilíndricas a partir de las coordenadas cartesianas, se usan las siguientes relaciones:\n",
    "- Dado un punto $P(x,y,z)$\n",
    "- $\\rho = dist(Proy_{O, \\hat{i}, \\hat{j}}(P), O)$: es la distancia al eje de la proyección de P al plano O, $\\hat{i}$, $\\hat{j}$\n",
    "    - Al ser una distancia, $\\rho$ es siempre positiva ($\\rho >= 0$).\n",
    "    - $\\rho = \\sqrt{x^2 + y^2}$\n",
    "- $\\phi$: es el ángulo que forma la recta O, proyección de P con el eje $x$ o el $y$.\n",
    "    - $\\phi = \\arctan(\\frac{y}{x})$\n",
    "    - Nos limitamos a $0 <= \\phi < 2\\pi$\n",
    "- $z$: es igual a la coordenada $z$ de P.\n",
    "\n",
    "![clilindricas](media/clase1/cilindricas.png)"
   ]
  },
  {
   "cell_type": "markdown",
   "id": "a1837026",
   "metadata": {},
   "source": [
    "### Relaciones entre coordenadas cartesianas y cilíndricas\n",
    "\n",
    "- $\\hat{e_\\rho} = \\cos(\\phi) \\hat{i} + \\sin(\\phi) \\hat{j}$\n",
    "- $\\hat{e_\\phi} = -\\sin(\\phi) \\hat{i} + \\cos(\\phi) \\hat{j}$"
   ]
  },
  {
   "cell_type": "markdown",
   "id": "50e8ac17",
   "metadata": {},
   "source": [
    "#### Tener en cuenta que:\n",
    "- El ángulo $\\phi$ debe quedar entre $0$ y $2\\pi$ (nos aseguramos que sin y cos sean positivos).\n",
    "- Para hallar $\\hat{e_{\\phi}}$:\n",
    "\n",
    "    ![alt text](media/clase1/coo_cat_cili1.png)\n",
    "\n",
    "- Para hallar $\\hat{e_{\\rho}}$:\n",
    "\n",
    "    ![alt text](media/clase1/coo_cat_cili2.png)"
   ]
  },
  {
   "cell_type": "markdown",
   "id": "eba06ce3",
   "metadata": {},
   "source": [
    "## 2.1 Coordenadas Polares Planas\n",
    "\n",
    "Nos mantenemos en el plano $xy$ y eliminamos la coordenada $z$ ($z=0$).\n",
    "\n",
    "Mantenemos las dos bases de las coordenadas cilíndricas:\n",
    "- $\\hat{e}_\\rho$: vector unitario radial\n",
    "- $\\hat{e}_\\phi$: vector unitario azimutal\n",
    "\n",
    "![alt text](media/clase1/polares.png)"
   ]
  },
  {
   "cell_type": "markdown",
   "id": "b955ed75",
   "metadata": {},
   "source": [
    "# Demo. con Python"
   ]
  },
  {
   "cell_type": "code",
   "execution_count": 1,
   "id": "88d06a45",
   "metadata": {},
   "outputs": [
    {
     "data": {
      "text/markdown": [
       "\n",
       "### Visualización \n",
       "\n",
       "Se muestra cómo se relacionan las coordenadas cartesianas estándar y un sistema de\n",
       "coordenadas cilíndricas centradas en un punto $P(x,y,z)$.\n",
       "\n",
       "***Usa los sliders para modificar las coordenadas $x$, $y$ y $z$ del punto.***\n"
      ],
      "text/plain": [
       "<IPython.core.display.Markdown object>"
      ]
     },
     "metadata": {},
     "output_type": "display_data"
    },
    {
     "data": {
      "application/vnd.jupyter.widget-view+json": {
       "model_id": "06c772b6259347769fa85ba67fea10dc",
       "version_major": 2,
       "version_minor": 0
      },
      "text/plain": [
       "interactive(children=(FloatSlider(value=2.0, description='x', max=5.0, min=-1.0), FloatSlider(value=2.0, descr…"
      ]
     },
     "metadata": {},
     "output_type": "display_data"
    }
   ],
   "source": [
    "from sympy import atan2, cos, sin\n",
    "from sympy.vector import CoordSys3D\n",
    "import matplotlib.pyplot as plt\n",
    "import ipywidgets as widgets\n",
    "from ipywidgets import interact\n",
    "from IPython.display import display, Markdown\n",
    "\n",
    "%matplotlib inline\n",
    "\n",
    "# Usar el sistema de referencia de SymPy Physics\n",
    "\n",
    "display(\n",
    "    Markdown(\"\"\"\n",
    "### Visualización \n",
    "\n",
    "Se muestra cómo se relacionan las coordenadas cartesianas estándar y un sistema de\n",
    "coordenadas cilíndricas centradas en un punto $P(x,y,z)$.\n",
    "\n",
    "***Usa los sliders para modificar las coordenadas $x$, $y$ y $z$ del punto.***\n",
    "\"\"\")\n",
    ")\n",
    "\n",
    "N = CoordSys3D(\"N\")\n",
    "\n",
    "\n",
    "@interact(\n",
    "    x=widgets.FloatSlider(value=2, min=-1, max=5, step=0.1),\n",
    "    y=widgets.FloatSlider(value=2, min=-1, max=5, step=0.1),\n",
    "    z=widgets.FloatSlider(value=4, min=0, max=6, step=0.1),\n",
    ")\n",
    "def plot_coords(x, y, z):\n",
    "    p_tuple = (x, y, z)\n",
    "    phi = atan2(y, x)\n",
    "\n",
    "    # Versores cilíndricos\n",
    "    e_rho = cos(phi) * N.i + sin(phi) * N.j\n",
    "    e_phi = -sin(phi) * N.i + cos(phi) * N.j\n",
    "\n",
    "    # Visualización\n",
    "    fig = plt.figure(figsize=(6, 6))\n",
    "    ax = fig.add_subplot(111, projection=\"3d\")\n",
    "\n",
    "    # Versores cartesianos\n",
    "    ax.quiver(0, 0, 0, 1, 0, 0, color=\"r\", length=1, normalize=True, label=\"i \")\n",
    "    ax.quiver(0, 0, 0, 0, 1, 0, color=\"g\", length=1, normalize=True, label=\"j\")\n",
    "    ax.quiver(0, 0, 0, 0, 0, 1, color=\"b\", length=1, normalize=True, label=\"k\")\n",
    "\n",
    "    # Origen\n",
    "    ax.text(-0.25, -0.25, -0.25, \"O\")\n",
    "\n",
    "    # Punto P\n",
    "    ax.scatter([x], [y], [z], color=\"k\", s=25)\n",
    "    ax.text(x + 0.1, y + 0.1, z + 0.1, \"P\")\n",
    "\n",
    "    # Versores cilíndricos\n",
    "    ax.quiver(\n",
    "        *p_tuple,\n",
    "        float(e_rho.dot(N.i)),\n",
    "        float(e_rho.dot(N.j)),\n",
    "        0,\n",
    "        color=\"orange\",\n",
    "        length=1,\n",
    "        normalize=True,\n",
    "        label=r\"$e_\\rho$\",\n",
    "    )\n",
    "    ax.quiver(\n",
    "        *p_tuple,\n",
    "        float(e_phi.dot(N.i)),\n",
    "        float(e_phi.dot(N.j)),\n",
    "        0,\n",
    "        color=\"purple\",\n",
    "        length=1,\n",
    "        normalize=True,\n",
    "        label=r\"$e_\\phi$\",\n",
    "    )\n",
    "    ax.quiver(*p_tuple, 0, 0, 1, color=\"b\", length=1, normalize=True)\n",
    "\n",
    "    # Linea que pasa por 0 y el punto (x,y,z)\n",
    "    ax.plot([0, x], [0, y], [0, z], color=\"k\", alpha=0.3)\n",
    "\n",
    "    # Proyección en el plano xy\n",
    "    ax.text(x + 0.1, y + 0.1, -0.5, \"Proy(P)\")\n",
    "    ax.plot([0, x], [0, y], [0, 0], color=\"k\", alpha=0.3)\n",
    "    ax.plot([x, x], [y, y], [0, z], color=\"k\", alpha=0.3)\n",
    "    ax.scatter([x], [y], [0], color=\"k\", s=25, alpha=0.5)\n",
    "    # Versores cilíndricos (en la proyección)\n",
    "    ax.quiver(\n",
    "        x,\n",
    "        y,\n",
    "        0,\n",
    "        float(e_rho.dot(N.i)),\n",
    "        float(e_rho.dot(N.j)),\n",
    "        0,\n",
    "        color=\"orange\",\n",
    "        length=1,\n",
    "        normalize=True,\n",
    "        label=r\"$e_\\rho$\",\n",
    "        alpha=0.5,\n",
    "    )\n",
    "    ax.quiver(\n",
    "        x,\n",
    "        y,\n",
    "        0,\n",
    "        float(e_phi.dot(N.i)),\n",
    "        float(e_phi.dot(N.j)),\n",
    "        0,\n",
    "        color=\"purple\",\n",
    "        length=1,\n",
    "        normalize=True,\n",
    "        label=r\"$e_\\phi$\",\n",
    "        alpha=0.5,\n",
    "    )\n",
    "\n",
    "    # Configuración de la gráfica\n",
    "    ax.set_xlim([-1, 5])\n",
    "    ax.set_ylim([-1, 5])\n",
    "    ax.set_zlim([0, 6])\n",
    "    ax.set_xlabel(\"x\")\n",
    "    ax.set_ylabel(\"y\")\n",
    "    ax.set_zlabel(\"z\")\n",
    "    ax.set_title(\"Visualización de coordenadas cartesianas y cilíndricas\")\n",
    "    plt.legend()\n",
    "    plt.show()"
   ]
  }
 ],
 "metadata": {
  "kernelspec": {
   "display_name": ".venv",
   "language": "python",
   "name": "python3"
  },
  "language_info": {
   "codemirror_mode": {
    "name": "ipython",
    "version": 3
   },
   "file_extension": ".py",
   "mimetype": "text/x-python",
   "name": "python",
   "nbconvert_exporter": "python",
   "pygments_lexer": "ipython3",
   "version": "3.11.0rc1"
  }
 },
 "nbformat": 4,
 "nbformat_minor": 5
}
